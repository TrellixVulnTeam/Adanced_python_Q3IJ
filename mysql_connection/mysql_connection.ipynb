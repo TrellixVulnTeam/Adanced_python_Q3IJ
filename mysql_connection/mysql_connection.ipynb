{
 "cells": [
  {
   "cell_type": "code",
   "execution_count": 1,
   "metadata": {
    "collapsed": true
   },
   "outputs": [
    {
     "name": "stdout",
     "output_type": "stream",
     "text": [
      "db connection successfully\n"
     ]
    }
   ],
   "source": [
    "import mysql.connector\n",
    "\n",
    "conn = mysql.connector.connect(\n",
    "    host='localhost',\n",
    "    database='company',\n",
    "    user='root',\n",
    "    password='breach'\n",
    ")\n",
    "if conn.is_connected():\n",
    "    print('db connection successfully')\n",
    "else:\n",
    "    print('error occurred in connecting to DB')"
   ]
  },
  {
   "cell_type": "code",
   "execution_count": 2,
   "metadata": {
    "pycharm": {
     "name": "#%%\n"
    }
   },
   "outputs": [
    {
     "name": "stdout",
     "output_type": "stream",
     "text": [
      "Error Occurred 1050 (42S01): Table 'Employee' already exists\n"
     ]
    }
   ],
   "source": [
    "# create table employee\n",
    "cursor = conn.cursor()\n",
    "try:\n",
    "    cursor.execute('''\n",
    "    CREATE TABLE `company`.`Employee` (\n",
    "      `employee_id` INT NOT NULL AUTO_INCREMENT,\n",
    "      `first_name` VARCHAR(100) NULL,\n",
    "      `last_name` VARCHAR(100) NULL,\n",
    "      `email` VARCHAR(45) NULL,\n",
    "      `phone` VARCHAR(45) NULL,\n",
    "      `hire_date` DATETIME NULL,\n",
    "      `job_id` VARCHAR(45) NULL,\n",
    "      `salary` INT NULL,\n",
    "      `manager_id` VARCHAR(45) NULL,\n",
    "      `department_id` VARCHAR(45) NULL,\n",
    "      PRIMARY KEY (`employee_id`));\n",
    "    ''')\n",
    "    conn.commit()\n",
    "    print('Employee table created successful')\n",
    "except mysql.connector.Error as error:\n",
    "    print(\"Error Occurred\", error)\n",
    "finally:\n",
    "    pass\n",
    "    # conn.close()"
   ]
  },
  {
   "cell_type": "code",
   "execution_count": 3,
   "metadata": {
    "pycharm": {
     "name": "#%%\n"
    }
   },
   "outputs": [
    {
     "name": "stdout",
     "output_type": "stream",
     "text": [
      "Error Occurred  1050 (42S01): Table 'Department' already exists\n"
     ]
    }
   ],
   "source": [
    "# create table department\n",
    "cursor = conn.cursor()\n",
    "try:\n",
    "    cursor.execute('''\n",
    "    CREATE TABLE `company`.`Department` (\n",
    "      `department_id` INT NOT NULL AUTO_INCREMENT,\n",
    "      `department_name` VARCHAR(45) NULL,\n",
    "      `location_id` VARCHAR(45) NULL,\n",
    "      PRIMARY KEY (`department_id`));\n",
    "    ''')\n",
    "    conn.commit()\n",
    "    print('Department table created successful')\n",
    "except mysql.connector.Error as error:\n",
    "    print(\"Error Occurred \", error)\n",
    "finally:\n",
    "    pass\n",
    "    # cursor.close()"
   ]
  },
  {
   "cell_type": "code",
   "execution_count": 4,
   "metadata": {
    "pycharm": {
     "name": "#%%\n"
    }
   },
   "outputs": [
    {
     "name": "stdout",
     "output_type": "stream",
     "text": [
      "Error Occurred  1050 (42S01): Table 'Jobs' already exists\n"
     ]
    }
   ],
   "source": [
    "# create table jobs\n",
    "cursor = conn.cursor()\n",
    "try:\n",
    "    cursor.execute('''\n",
    "    CREATE TABLE `company`.`Jobs` (\n",
    "      `job_id` INT NOT NULL AUTO_INCREMENT,\n",
    "      `job_title` VARCHAR(45) NULL,\n",
    "      `min_salary` INT NULL,\n",
    "      `max_salary` INT NULL,\n",
    "      PRIMARY KEY (`job_id`));\n",
    "    ''')\n",
    "    conn.commit()\n",
    "    print('Jobs table created successful')\n",
    "except mysql.connector.Error as error:\n",
    "    print(\"Error Occurred \", error)\n",
    "finally:\n",
    "    pass"
   ]
  },
  {
   "cell_type": "code",
   "execution_count": 5,
   "metadata": {
    "pycharm": {
     "name": "#%%\n"
    }
   },
   "outputs": [
    {
     "name": "stdout",
     "output_type": "stream",
     "text": [
      "10  Records inserted into employee table\n"
     ]
    }
   ],
   "source": [
    "# insert data into the employee table\n",
    "\n",
    "employee_data = [\n",
    "    ('Antonette', 'Krajcik', 'frami.tremaine@example.com', '524-330-4576', '2009-02-12 04:55:25', '5', 3, '4', '5'),\n",
    "    (\n",
    "    'Darrell', 'Quigley', 'keeling.ellsworth@example.org', '880.314.7079x927', '1985-04-29 07:30:10', '5', 6, '7', '4'),\n",
    "    ('Sterling', 'Kshlerin', 'sdouglas@example.net', '02582051463', '2000-05-09 22:59:22', '8', 6, '1', '8'),\n",
    "    ('Petra', 'Haag', 'celine69@example.net', '666.309.5779', '1999-11-11 07:22:11', '4', 6, '3', '5'),\n",
    "    ('Vivienne', 'Ebert', 'ismael86@example.com', '09423295201', '1974-08-02 01:19:26', '9', 6, '8', '3'),\n",
    "    ('Petra', 'Thiel', 'triston.haag@example.org', '1-767-035-4896x5198', '2020-08-08 15:50:13', '2', 4, '2', '5'),\n",
    "    ('Zula', 'Bergstrom', 'dbeahan@example.org', '382-001-7383x59947', '2008-10-12 13:10:02', '1', 4, '7', '9'),\n",
    "    ('Sammie', 'Klein', 'muller.kiara@example.com', '730-482-4076x121', '2006-01-31 01:11:47', '4', 5, '6', '5'),\n",
    "    ('Ernestine', 'Koss', 'leonor77@example.net', '(298)256-3267', '2020-10-20 04:02:06', '4', 4, '8', '5'),\n",
    "    ('Ferne', 'Shields', 'amante@example.net', '04025586949', '1997-09-17 23:19:52', '4', 1, '5', '4')\n",
    "]\n",
    "cursor = conn.cursor()\n",
    "employee_insert_sql = '''\n",
    "INSERT INTO `company`.`Employee`\n",
    "(`first_name`,\n",
    "`last_name`,\n",
    "`email`,\n",
    "`phone`,\n",
    "`hire_date`,\n",
    "`job_id`,\n",
    "`salary`,\n",
    "`manager_id`,\n",
    "`department_id`)\n",
    "VALUES\n",
    "(%s,%s,%s,%s,%s,%s,%s,%s,%s);\n",
    "'''\n",
    "try:\n",
    "    cursor.executemany(employee_insert_sql, employee_data)\n",
    "    print(cursor.rowcount, \" Records inserted into employee table\")\n",
    "    conn.commit()\n",
    "except mysql.connector.Error as error:\n",
    "    print(\"Error Occurred \", error)\n",
    "finally:\n",
    "    pass"
   ]
  },
  {
   "cell_type": "code",
   "execution_count": 6,
   "metadata": {
    "pycharm": {
     "name": "#%%\n"
    }
   },
   "outputs": [
    {
     "name": "stdout",
     "output_type": "stream",
     "text": [
      "10  Records inserted into department table\n"
     ]
    }
   ],
   "source": [
    "# insert data into the department table\n",
    "department_data = [\n",
    "    ('mesh B2C paradigms', '9'),\n",
    "    ('incubate e-business users', '3'),\n",
    "    ('aggregate dynamic models', '7'),\n",
    "    ('morph rich architectures', '9'),\n",
    "    ('facilitate plug-and-play systems', '2'),\n",
    "    ('generate real-time webservices', '2'),\n",
    "    ('repurpose world-class niches', '9'),\n",
    "    ('matrix distributed architectures', '1'),\n",
    "    ('expedite robust vortals', '3'),\n",
    "    ('incubate leading-edge bandwidth', '4')\n",
    "]\n",
    "\n",
    "department_insert_sql = '''\n",
    "INSERT INTO `company`.`Department`\n",
    "(`department_name`,\n",
    "`location_id`)\n",
    "VALUES\n",
    "(%s,%s);\n",
    "'''\n",
    "\n",
    "try:\n",
    "    cursor.executemany(department_insert_sql, department_data)\n",
    "    print(cursor.rowcount, \" Records inserted into department table\")\n",
    "    conn.commit()\n",
    "except mysql.connector.Error as error:\n",
    "    print(\"Error Occurred \", error)\n",
    "finally:\n",
    "    pass"
   ]
  },
  {
   "cell_type": "code",
   "execution_count": 7,
   "metadata": {
    "pycharm": {
     "name": "#%%\n"
    }
   },
   "outputs": [
    {
     "name": "stdout",
     "output_type": "stream",
     "text": [
      "10  Records inserted into Jobs table\n"
     ]
    }
   ],
   "source": [
    "# insert data into jobs table\n",
    "jobs_data = [\n",
    "    ('Armstrong Klein', 103, 7129),\n",
    "    ('Roberts Funk and Kovacek', 962, 5986),\n",
    "    ('Haag Gutmann', 424, 6584),\n",
    "    ('Sporer Koelpin and Graham', 961, 4713),\n",
    "    ('Dooley and Sons', 239, 5474),\n",
    "    ('Smitham Mohr and Jast', 233, 4251),\n",
    "    ('Swaniawski Wilkinson and Ritchie', 110, 7554),\n",
    "    ('Aufderhar and Sons', 527, 9489),\n",
    "    ('Mann Ltd', 279, 1146),\n",
    "    ('Fadel LLC', 513, 1761)\n",
    "]\n",
    "cursor = conn.cursor()\n",
    "jobs_insert_sql = '''\n",
    "INSERT INTO `company`.`Jobs`\n",
    "(`job_title`,\n",
    "`min_salary`,\n",
    "`max_salary`)\n",
    "VALUES(\n",
    "%s,%s,%s);\n",
    "'''\n",
    "\n",
    "try:\n",
    "    cursor.executemany(jobs_insert_sql, jobs_data)\n",
    "    print(cursor.rowcount, \" Records inserted into Jobs table\")\n",
    "    conn.commit()\n",
    "except mysql.connector.Error as error:\n",
    "    print(\"Error Occurred \", error)\n",
    "finally:\n",
    "    pass"
   ]
  },
  {
   "cell_type": "code",
   "execution_count": 8,
   "metadata": {
    "pycharm": {
     "name": "#%%\n"
    }
   },
   "outputs": [
    {
     "name": "stdout",
     "output_type": "stream",
     "text": [
      "40  Employee (rows) fetched\n",
      "(1, 'Antonette', 'Krajcik', 'frami.tremaine@example.com', '524-330-4576', datetime.datetime(2009, 2, 12, 4, 55, 25), '5', 3, '4', '5')\n",
      "(2, 'Darrell', 'Quigley', 'keeling.ellsworth@example.org', '880.314.7079x927', datetime.datetime(1985, 4, 29, 7, 30, 10), '5', 6, '7', '4')\n",
      "(3, 'Sterling', 'Kshlerin', 'sdouglas@example.net', '02582051463', datetime.datetime(2000, 5, 9, 22, 59, 22), '8', 6, '1', '8')\n",
      "(4, 'Petra', 'Haag', 'celine69@example.net', '666.309.5779', datetime.datetime(1999, 11, 11, 7, 22, 11), '4', 6, '3', '5')\n",
      "(5, 'Vivienne', 'Ebert', 'ismael86@example.com', '09423295201', datetime.datetime(1974, 8, 2, 1, 19, 26), '9', 6, '8', '3')\n",
      "(6, 'Petra', 'Thiel', 'triston.haag@example.org', '1-767-035-4896x5198', datetime.datetime(2020, 8, 8, 15, 50, 13), '2', 4, '2', '5')\n",
      "(7, 'Zula', 'Bergstrom', 'dbeahan@example.org', '382-001-7383x59947', datetime.datetime(2008, 10, 12, 13, 10, 2), '1', 4, '7', '9')\n",
      "(8, 'Sammie', 'Klein', 'muller.kiara@example.com', '730-482-4076x121', datetime.datetime(2006, 1, 31, 1, 11, 47), '4', 5, '6', '5')\n",
      "(9, 'Ernestine', 'Koss', 'leonor77@example.net', '(298)256-3267', datetime.datetime(2020, 10, 20, 4, 2, 6), '4', 4, '8', '5')\n",
      "(10, 'Ferne', 'Shields', 'amante@example.net', '04025586949', datetime.datetime(1997, 9, 17, 23, 19, 52), '4', 1, '5', '4')\n",
      "(11, 'Antonette', 'Krajcik', 'frami.tremaine@example.com', '524-330-4576', datetime.datetime(2009, 2, 12, 4, 55, 25), '5', 3, '4', '5')\n",
      "(12, 'Darrell', 'Quigley', 'keeling.ellsworth@example.org', '880.314.7079x927', datetime.datetime(1985, 4, 29, 7, 30, 10), '5', 6, '7', '4')\n",
      "(13, 'Sterling', 'Kshlerin', 'sdouglas@example.net', '02582051463', datetime.datetime(2000, 5, 9, 22, 59, 22), '8', 6, '1', '8')\n",
      "(14, 'Petra', 'Haag', 'celine69@example.net', '666.309.5779', datetime.datetime(1999, 11, 11, 7, 22, 11), '4', 6, '3', '5')\n",
      "(15, 'Vivienne', 'Ebert', 'ismael86@example.com', '09423295201', datetime.datetime(1974, 8, 2, 1, 19, 26), '9', 6, '8', '3')\n",
      "(16, 'Petra', 'Thiel', 'triston.haag@example.org', '1-767-035-4896x5198', datetime.datetime(2020, 8, 8, 15, 50, 13), '2', 4, '2', '5')\n",
      "(17, 'Zula', 'Bergstrom', 'dbeahan@example.org', '382-001-7383x59947', datetime.datetime(2008, 10, 12, 13, 10, 2), '1', 4, '7', '9')\n",
      "(18, 'Sammie', 'Klein', 'muller.kiara@example.com', '730-482-4076x121', datetime.datetime(2006, 1, 31, 1, 11, 47), '4', 5, '6', '5')\n",
      "(19, 'Ernestine', 'Koss', 'leonor77@example.net', '(298)256-3267', datetime.datetime(2020, 10, 20, 4, 2, 6), '4', 4, '8', '5')\n",
      "(20, 'Ferne', 'Shields', 'amante@example.net', '04025586949', datetime.datetime(1997, 9, 17, 23, 19, 52), '4', 1, '5', '4')\n",
      "(21, 'Antonette', 'Krajcik', 'frami.tremaine@example.com', '524-330-4576', datetime.datetime(2009, 2, 12, 4, 55, 25), '5', 3, '4', '5')\n",
      "(22, 'Darrell', 'Quigley', 'keeling.ellsworth@example.org', '880.314.7079x927', datetime.datetime(1985, 4, 29, 7, 30, 10), '5', 6, '7', '4')\n",
      "(23, 'Sterling', 'Kshlerin', 'sdouglas@example.net', '02582051463', datetime.datetime(2000, 5, 9, 22, 59, 22), '8', 6, '1', '8')\n",
      "(24, 'Petra', 'Haag', 'celine69@example.net', '666.309.5779', datetime.datetime(1999, 11, 11, 7, 22, 11), '4', 6, '3', '5')\n",
      "(25, 'Vivienne', 'Ebert', 'ismael86@example.com', '09423295201', datetime.datetime(1974, 8, 2, 1, 19, 26), '9', 6, '8', '3')\n",
      "(26, 'Petra', 'Thiel', 'triston.haag@example.org', '1-767-035-4896x5198', datetime.datetime(2020, 8, 8, 15, 50, 13), '2', 4, '2', '5')\n",
      "(27, 'Zula', 'Bergstrom', 'dbeahan@example.org', '382-001-7383x59947', datetime.datetime(2008, 10, 12, 13, 10, 2), '1', 4, '7', '9')\n",
      "(28, 'Sammie', 'Klein', 'muller.kiara@example.com', '730-482-4076x121', datetime.datetime(2006, 1, 31, 1, 11, 47), '4', 5, '6', '5')\n",
      "(29, 'Ernestine', 'Koss', 'leonor77@example.net', '(298)256-3267', datetime.datetime(2020, 10, 20, 4, 2, 6), '4', 4, '8', '5')\n",
      "(30, 'Ferne', 'Shields', 'amante@example.net', '04025586949', datetime.datetime(1997, 9, 17, 23, 19, 52), '4', 1, '5', '4')\n",
      "(31, 'Antonette', 'Krajcik', 'frami.tremaine@example.com', '524-330-4576', datetime.datetime(2009, 2, 12, 4, 55, 25), '5', 3, '4', '5')\n",
      "(32, 'Darrell', 'Quigley', 'keeling.ellsworth@example.org', '880.314.7079x927', datetime.datetime(1985, 4, 29, 7, 30, 10), '5', 6, '7', '4')\n",
      "(33, 'Sterling', 'Kshlerin', 'sdouglas@example.net', '02582051463', datetime.datetime(2000, 5, 9, 22, 59, 22), '8', 6, '1', '8')\n",
      "(34, 'Petra', 'Haag', 'celine69@example.net', '666.309.5779', datetime.datetime(1999, 11, 11, 7, 22, 11), '4', 6, '3', '5')\n",
      "(35, 'Vivienne', 'Ebert', 'ismael86@example.com', '09423295201', datetime.datetime(1974, 8, 2, 1, 19, 26), '9', 6, '8', '3')\n",
      "(36, 'Petra', 'Thiel', 'triston.haag@example.org', '1-767-035-4896x5198', datetime.datetime(2020, 8, 8, 15, 50, 13), '2', 4, '2', '5')\n",
      "(37, 'Zula', 'Bergstrom', 'dbeahan@example.org', '382-001-7383x59947', datetime.datetime(2008, 10, 12, 13, 10, 2), '1', 4, '7', '9')\n",
      "(38, 'Sammie', 'Klein', 'muller.kiara@example.com', '730-482-4076x121', datetime.datetime(2006, 1, 31, 1, 11, 47), '4', 5, '6', '5')\n",
      "(39, 'Ernestine', 'Koss', 'leonor77@example.net', '(298)256-3267', datetime.datetime(2020, 10, 20, 4, 2, 6), '4', 4, '8', '5')\n",
      "(40, 'Ferne', 'Shields', 'amante@example.net', '04025586949', datetime.datetime(1997, 9, 17, 23, 19, 52), '4', 1, '5', '4')\n"
     ]
    }
   ],
   "source": [
    "# fetch data in employee table\n",
    "try:\n",
    "    cursor = conn.cursor()\n",
    "    cursor.execute('SELECT * FROM Employee;')\n",
    "    employees = cursor.fetchall()\n",
    "    print(cursor.rowcount, \" Employee (rows) fetched\")\n",
    "    for employee in employees:\n",
    "        print(employee)\n",
    "except mysql.connector.Error as error:\n",
    "    print(\"Error Occurred \", error)"
   ]
  },
  {
   "cell_type": "code",
   "execution_count": 9,
   "outputs": [
    {
     "name": "stdout",
     "output_type": "stream",
     "text": [
      "20  Departments (rows) fetched\n",
      "(1, 'mesh B2C paradigms', '9')\n",
      "(2, 'incubate e-business users', '3')\n",
      "(3, 'aggregate dynamic models', '7')\n",
      "(4, 'morph rich architectures', '9')\n",
      "(5, 'facilitate plug-and-play systems', '2')\n",
      "(6, 'generate real-time webservices', '2')\n",
      "(7, 'repurpose world-class niches', '9')\n",
      "(8, 'matrix distributed architectures', '1')\n",
      "(9, 'expedite robust vortals', '3')\n",
      "(10, 'incubate leading-edge bandwidth', '4')\n",
      "(11, 'mesh B2C paradigms', '9')\n",
      "(12, 'incubate e-business users', '3')\n",
      "(13, 'aggregate dynamic models', '7')\n",
      "(14, 'morph rich architectures', '9')\n",
      "(15, 'facilitate plug-and-play systems', '2')\n",
      "(16, 'generate real-time webservices', '2')\n",
      "(17, 'repurpose world-class niches', '9')\n",
      "(18, 'matrix distributed architectures', '1')\n",
      "(19, 'expedite robust vortals', '3')\n",
      "(20, 'incubate leading-edge bandwidth', '4')\n"
     ]
    }
   ],
   "source": [
    "# fetch data in department table\n",
    "try:\n",
    "    cursor = conn.cursor()\n",
    "    cursor.execute('SELECT * FROM Department;')\n",
    "    departments = cursor.fetchall()\n",
    "    print(cursor.rowcount, \" Departments (rows) fetched\")\n",
    "    for department in departments:\n",
    "        print(department)\n",
    "except mysql.connector.Error as error:\n",
    "    print(\"Error Occurred \", error)"
   ],
   "metadata": {
    "collapsed": false,
    "pycharm": {
     "name": "#%%\n"
    }
   }
  },
  {
   "cell_type": "code",
   "execution_count": 10,
   "outputs": [
    {
     "name": "stdout",
     "output_type": "stream",
     "text": [
      "20  Jobs (rows) fetched\n",
      "(1, 'Armstrong Klein', 103, 7129)\n",
      "(2, 'Roberts Funk and Kovacek', 962, 5986)\n",
      "(3, 'Haag Gutmann', 424, 6584)\n",
      "(4, 'Sporer Koelpin and Graham', 961, 4713)\n",
      "(5, 'Dooley and Sons', 239, 5474)\n",
      "(6, 'Smitham Mohr and Jast', 233, 4251)\n",
      "(7, 'Swaniawski Wilkinson and Ritchie', 110, 7554)\n",
      "(8, 'Aufderhar and Sons', 527, 9489)\n",
      "(9, 'Mann Ltd', 279, 1146)\n",
      "(10, 'Fadel LLC', 513, 1761)\n",
      "(11, 'Armstrong Klein', 103, 7129)\n",
      "(12, 'Roberts Funk and Kovacek', 962, 5986)\n",
      "(13, 'Haag Gutmann', 424, 6584)\n",
      "(14, 'Sporer Koelpin and Graham', 961, 4713)\n",
      "(15, 'Dooley and Sons', 239, 5474)\n",
      "(16, 'Smitham Mohr and Jast', 233, 4251)\n",
      "(17, 'Swaniawski Wilkinson and Ritchie', 110, 7554)\n",
      "(18, 'Aufderhar and Sons', 527, 9489)\n",
      "(19, 'Mann Ltd', 279, 1146)\n",
      "(20, 'Fadel LLC', 513, 1761)\n"
     ]
    }
   ],
   "source": [
    "# fetch data in jobs table\n",
    "try:\n",
    "    cursor = conn.cursor()\n",
    "    cursor.execute('SELECT * FROM Jobs;')\n",
    "    jobs = cursor.fetchall()\n",
    "    print(cursor.rowcount, \" Jobs (rows) fetched\")\n",
    "    for job in jobs:\n",
    "        print(job)\n",
    "except mysql.connector.Error as error:\n",
    "    print(\"Error Occurred \", error)\n"
   ],
   "metadata": {
    "collapsed": false,
    "pycharm": {
     "name": "#%%\n"
    }
   }
  },
  {
   "cell_type": "code",
   "execution_count": 11,
   "outputs": [
    {
     "name": "stdout",
     "output_type": "stream",
     "text": [
      "40  (rows) fetched\n",
      "(1, 'Antonette', 'Krajcik', 'frami.tremaine@example.com', '524-330-4576', datetime.datetime(2009, 2, 12, 4, 55, 25), '5', 3, '4', '5', 5, 'facilitate plug-and-play systems', '2', 5, 'Dooley and Sons', 239, 5474)\n",
      "(2, 'Darrell', 'Quigley', 'keeling.ellsworth@example.org', '880.314.7079x927', datetime.datetime(1985, 4, 29, 7, 30, 10), '5', 6, '7', '4', 4, 'morph rich architectures', '9', 5, 'Dooley and Sons', 239, 5474)\n",
      "(3, 'Sterling', 'Kshlerin', 'sdouglas@example.net', '02582051463', datetime.datetime(2000, 5, 9, 22, 59, 22), '8', 6, '1', '8', 8, 'matrix distributed architectures', '1', 8, 'Aufderhar and Sons', 527, 9489)\n",
      "(4, 'Petra', 'Haag', 'celine69@example.net', '666.309.5779', datetime.datetime(1999, 11, 11, 7, 22, 11), '4', 6, '3', '5', 5, 'facilitate plug-and-play systems', '2', 4, 'Sporer Koelpin and Graham', 961, 4713)\n",
      "(5, 'Vivienne', 'Ebert', 'ismael86@example.com', '09423295201', datetime.datetime(1974, 8, 2, 1, 19, 26), '9', 6, '8', '3', 3, 'aggregate dynamic models', '7', 9, 'Mann Ltd', 279, 1146)\n",
      "(6, 'Petra', 'Thiel', 'triston.haag@example.org', '1-767-035-4896x5198', datetime.datetime(2020, 8, 8, 15, 50, 13), '2', 4, '2', '5', 5, 'facilitate plug-and-play systems', '2', 2, 'Roberts Funk and Kovacek', 962, 5986)\n",
      "(7, 'Zula', 'Bergstrom', 'dbeahan@example.org', '382-001-7383x59947', datetime.datetime(2008, 10, 12, 13, 10, 2), '1', 4, '7', '9', 9, 'expedite robust vortals', '3', 1, 'Armstrong Klein', 103, 7129)\n",
      "(8, 'Sammie', 'Klein', 'muller.kiara@example.com', '730-482-4076x121', datetime.datetime(2006, 1, 31, 1, 11, 47), '4', 5, '6', '5', 5, 'facilitate plug-and-play systems', '2', 4, 'Sporer Koelpin and Graham', 961, 4713)\n",
      "(9, 'Ernestine', 'Koss', 'leonor77@example.net', '(298)256-3267', datetime.datetime(2020, 10, 20, 4, 2, 6), '4', 4, '8', '5', 5, 'facilitate plug-and-play systems', '2', 4, 'Sporer Koelpin and Graham', 961, 4713)\n",
      "(10, 'Ferne', 'Shields', 'amante@example.net', '04025586949', datetime.datetime(1997, 9, 17, 23, 19, 52), '4', 1, '5', '4', 4, 'morph rich architectures', '9', 4, 'Sporer Koelpin and Graham', 961, 4713)\n",
      "(11, 'Antonette', 'Krajcik', 'frami.tremaine@example.com', '524-330-4576', datetime.datetime(2009, 2, 12, 4, 55, 25), '5', 3, '4', '5', 5, 'facilitate plug-and-play systems', '2', 5, 'Dooley and Sons', 239, 5474)\n",
      "(12, 'Darrell', 'Quigley', 'keeling.ellsworth@example.org', '880.314.7079x927', datetime.datetime(1985, 4, 29, 7, 30, 10), '5', 6, '7', '4', 4, 'morph rich architectures', '9', 5, 'Dooley and Sons', 239, 5474)\n",
      "(13, 'Sterling', 'Kshlerin', 'sdouglas@example.net', '02582051463', datetime.datetime(2000, 5, 9, 22, 59, 22), '8', 6, '1', '8', 8, 'matrix distributed architectures', '1', 8, 'Aufderhar and Sons', 527, 9489)\n",
      "(14, 'Petra', 'Haag', 'celine69@example.net', '666.309.5779', datetime.datetime(1999, 11, 11, 7, 22, 11), '4', 6, '3', '5', 5, 'facilitate plug-and-play systems', '2', 4, 'Sporer Koelpin and Graham', 961, 4713)\n",
      "(15, 'Vivienne', 'Ebert', 'ismael86@example.com', '09423295201', datetime.datetime(1974, 8, 2, 1, 19, 26), '9', 6, '8', '3', 3, 'aggregate dynamic models', '7', 9, 'Mann Ltd', 279, 1146)\n",
      "(16, 'Petra', 'Thiel', 'triston.haag@example.org', '1-767-035-4896x5198', datetime.datetime(2020, 8, 8, 15, 50, 13), '2', 4, '2', '5', 5, 'facilitate plug-and-play systems', '2', 2, 'Roberts Funk and Kovacek', 962, 5986)\n",
      "(17, 'Zula', 'Bergstrom', 'dbeahan@example.org', '382-001-7383x59947', datetime.datetime(2008, 10, 12, 13, 10, 2), '1', 4, '7', '9', 9, 'expedite robust vortals', '3', 1, 'Armstrong Klein', 103, 7129)\n",
      "(18, 'Sammie', 'Klein', 'muller.kiara@example.com', '730-482-4076x121', datetime.datetime(2006, 1, 31, 1, 11, 47), '4', 5, '6', '5', 5, 'facilitate plug-and-play systems', '2', 4, 'Sporer Koelpin and Graham', 961, 4713)\n",
      "(19, 'Ernestine', 'Koss', 'leonor77@example.net', '(298)256-3267', datetime.datetime(2020, 10, 20, 4, 2, 6), '4', 4, '8', '5', 5, 'facilitate plug-and-play systems', '2', 4, 'Sporer Koelpin and Graham', 961, 4713)\n",
      "(20, 'Ferne', 'Shields', 'amante@example.net', '04025586949', datetime.datetime(1997, 9, 17, 23, 19, 52), '4', 1, '5', '4', 4, 'morph rich architectures', '9', 4, 'Sporer Koelpin and Graham', 961, 4713)\n",
      "(21, 'Antonette', 'Krajcik', 'frami.tremaine@example.com', '524-330-4576', datetime.datetime(2009, 2, 12, 4, 55, 25), '5', 3, '4', '5', 5, 'facilitate plug-and-play systems', '2', 5, 'Dooley and Sons', 239, 5474)\n",
      "(22, 'Darrell', 'Quigley', 'keeling.ellsworth@example.org', '880.314.7079x927', datetime.datetime(1985, 4, 29, 7, 30, 10), '5', 6, '7', '4', 4, 'morph rich architectures', '9', 5, 'Dooley and Sons', 239, 5474)\n",
      "(23, 'Sterling', 'Kshlerin', 'sdouglas@example.net', '02582051463', datetime.datetime(2000, 5, 9, 22, 59, 22), '8', 6, '1', '8', 8, 'matrix distributed architectures', '1', 8, 'Aufderhar and Sons', 527, 9489)\n",
      "(24, 'Petra', 'Haag', 'celine69@example.net', '666.309.5779', datetime.datetime(1999, 11, 11, 7, 22, 11), '4', 6, '3', '5', 5, 'facilitate plug-and-play systems', '2', 4, 'Sporer Koelpin and Graham', 961, 4713)\n",
      "(25, 'Vivienne', 'Ebert', 'ismael86@example.com', '09423295201', datetime.datetime(1974, 8, 2, 1, 19, 26), '9', 6, '8', '3', 3, 'aggregate dynamic models', '7', 9, 'Mann Ltd', 279, 1146)\n",
      "(26, 'Petra', 'Thiel', 'triston.haag@example.org', '1-767-035-4896x5198', datetime.datetime(2020, 8, 8, 15, 50, 13), '2', 4, '2', '5', 5, 'facilitate plug-and-play systems', '2', 2, 'Roberts Funk and Kovacek', 962, 5986)\n",
      "(27, 'Zula', 'Bergstrom', 'dbeahan@example.org', '382-001-7383x59947', datetime.datetime(2008, 10, 12, 13, 10, 2), '1', 4, '7', '9', 9, 'expedite robust vortals', '3', 1, 'Armstrong Klein', 103, 7129)\n",
      "(28, 'Sammie', 'Klein', 'muller.kiara@example.com', '730-482-4076x121', datetime.datetime(2006, 1, 31, 1, 11, 47), '4', 5, '6', '5', 5, 'facilitate plug-and-play systems', '2', 4, 'Sporer Koelpin and Graham', 961, 4713)\n",
      "(29, 'Ernestine', 'Koss', 'leonor77@example.net', '(298)256-3267', datetime.datetime(2020, 10, 20, 4, 2, 6), '4', 4, '8', '5', 5, 'facilitate plug-and-play systems', '2', 4, 'Sporer Koelpin and Graham', 961, 4713)\n",
      "(30, 'Ferne', 'Shields', 'amante@example.net', '04025586949', datetime.datetime(1997, 9, 17, 23, 19, 52), '4', 1, '5', '4', 4, 'morph rich architectures', '9', 4, 'Sporer Koelpin and Graham', 961, 4713)\n",
      "(31, 'Antonette', 'Krajcik', 'frami.tremaine@example.com', '524-330-4576', datetime.datetime(2009, 2, 12, 4, 55, 25), '5', 3, '4', '5', 5, 'facilitate plug-and-play systems', '2', 5, 'Dooley and Sons', 239, 5474)\n",
      "(32, 'Darrell', 'Quigley', 'keeling.ellsworth@example.org', '880.314.7079x927', datetime.datetime(1985, 4, 29, 7, 30, 10), '5', 6, '7', '4', 4, 'morph rich architectures', '9', 5, 'Dooley and Sons', 239, 5474)\n",
      "(33, 'Sterling', 'Kshlerin', 'sdouglas@example.net', '02582051463', datetime.datetime(2000, 5, 9, 22, 59, 22), '8', 6, '1', '8', 8, 'matrix distributed architectures', '1', 8, 'Aufderhar and Sons', 527, 9489)\n",
      "(34, 'Petra', 'Haag', 'celine69@example.net', '666.309.5779', datetime.datetime(1999, 11, 11, 7, 22, 11), '4', 6, '3', '5', 5, 'facilitate plug-and-play systems', '2', 4, 'Sporer Koelpin and Graham', 961, 4713)\n",
      "(35, 'Vivienne', 'Ebert', 'ismael86@example.com', '09423295201', datetime.datetime(1974, 8, 2, 1, 19, 26), '9', 6, '8', '3', 3, 'aggregate dynamic models', '7', 9, 'Mann Ltd', 279, 1146)\n",
      "(36, 'Petra', 'Thiel', 'triston.haag@example.org', '1-767-035-4896x5198', datetime.datetime(2020, 8, 8, 15, 50, 13), '2', 4, '2', '5', 5, 'facilitate plug-and-play systems', '2', 2, 'Roberts Funk and Kovacek', 962, 5986)\n",
      "(37, 'Zula', 'Bergstrom', 'dbeahan@example.org', '382-001-7383x59947', datetime.datetime(2008, 10, 12, 13, 10, 2), '1', 4, '7', '9', 9, 'expedite robust vortals', '3', 1, 'Armstrong Klein', 103, 7129)\n",
      "(38, 'Sammie', 'Klein', 'muller.kiara@example.com', '730-482-4076x121', datetime.datetime(2006, 1, 31, 1, 11, 47), '4', 5, '6', '5', 5, 'facilitate plug-and-play systems', '2', 4, 'Sporer Koelpin and Graham', 961, 4713)\n",
      "(39, 'Ernestine', 'Koss', 'leonor77@example.net', '(298)256-3267', datetime.datetime(2020, 10, 20, 4, 2, 6), '4', 4, '8', '5', 5, 'facilitate plug-and-play systems', '2', 4, 'Sporer Koelpin and Graham', 961, 4713)\n",
      "(40, 'Ferne', 'Shields', 'amante@example.net', '04025586949', datetime.datetime(1997, 9, 17, 23, 19, 52), '4', 1, '5', '4', 4, 'morph rich architectures', '9', 4, 'Sporer Koelpin and Graham', 961, 4713)\n"
     ]
    }
   ],
   "source": [
    "# Join the 3 tables and dispaly data\n",
    "try:\n",
    "    cursor = conn.cursor()\n",
    "    cursor.execute('''\n",
    "select e.*,d.*,J.* from Employee e inner join\n",
    "    Department d on d.department_id = e.department_id\n",
    "inner join Jobs J on e.job_id = J.job_id;\n",
    "    ''')\n",
    "    data = cursor.fetchall()\n",
    "    print(cursor.rowcount, \" (rows) fetched\")\n",
    "    for datum in data:\n",
    "        print(datum)\n",
    "except mysql.connector.Error as error:\n",
    "    print(\"Error Occurred \", error)\n"
   ],
   "metadata": {
    "collapsed": false,
    "pycharm": {
     "name": "#%%\n"
    }
   }
  },
  {
   "cell_type": "code",
   "execution_count": 15,
   "outputs": [
    {
     "name": "stdout",
     "output_type": "stream",
     "text": [
      "3  Records inserted into employee table\n"
     ]
    }
   ],
   "source": [
    "# insert new employees\n",
    "employee_data = [\n",
    "    (91, 'Annabel', 'Nganga', 'Annabel.Nganga@mail.com', '524-330-4576', '2009-02-12 04:55:25', '5', 3000, '4', '5'),\n",
    "    (92, 'Esther', 'Wambui', 'Esther.Wambui@mail.com', '524-330-4576', '2009-02-12 04:55:25', '5', 5000, '4', '5'),\n",
    "    (94, 'Migot', 'Ndede', 'Migot.Ndede@mail.com', '524-330-4576', '2009-02-12 04:55:25', '5', 2000, '4', '5'),\n",
    "]\n",
    "cursor = conn.cursor()\n",
    "employee_insert_sql = '''\n",
    "INSERT INTO `company`.`Employee`\n",
    "(`employee_id`,\n",
    "`first_name`,\n",
    "`last_name`,\n",
    "`email`,\n",
    "`phone`,\n",
    "`hire_date`,\n",
    "`job_id`,\n",
    "`salary`,\n",
    "`manager_id`,\n",
    "`department_id`)\n",
    "VALUES\n",
    "(%s,%s,%s,%s,%s,%s,%s,%s,%s,%s);\n",
    "'''\n",
    "try:\n",
    "    cursor.executemany(employee_insert_sql, employee_data)\n",
    "    print(cursor.rowcount, \" Records inserted into employee table\")\n",
    "    conn.commit()\n",
    "except mysql.connector.Error as error:\n",
    "    print(\"Error Occurred \", error)\n",
    "finally:\n",
    "    pass\n"
   ],
   "metadata": {
    "collapsed": false,
    "pycharm": {
     "name": "#%%\n"
    }
   }
  },
  {
   "cell_type": "code",
   "execution_count": 16,
   "outputs": [
    {
     "name": "stdout",
     "output_type": "stream",
     "text": [
      "more columns added\n"
     ]
    }
   ],
   "source": [
    "# alter employee table add more columns\n",
    "try:\n",
    "    cursor.execute('''\n",
    "    ALTER TABLE `company`.`Employee`\n",
    "ADD COLUMN `cell_phone` VARCHAR(45) NULL AFTER `department_id`,\n",
    "ADD COLUMN `physical_address` VARCHAR(45) NULL AFTER `cell_phone`;\n",
    "    ''')\n",
    "    print('more columns added')\n",
    "    conn.commit()\n",
    "except mysql.connector.Error as error:\n",
    "    print(\"Error Occurred \", error)\n"
   ],
   "metadata": {
    "collapsed": false,
    "pycharm": {
     "name": "#%%\n"
    }
   }
  },
  {
   "cell_type": "code",
   "execution_count": 17,
   "outputs": [
    {
     "name": "stdout",
     "output_type": "stream",
     "text": [
      "Employee first name changed successfully\n"
     ]
    }
   ],
   "source": [
    "# make changes to tye first name of employee 94\n",
    "try:\n",
    "    cursor.execute('''\n",
    "   update Employee set first_name ='George' where employee_id =94;\n",
    "    ''')\n",
    "    print('Employee first name changed successfully')\n",
    "    conn.commit()\n",
    "except mysql.connector.Error as error:\n",
    "    print(\"Error Occurred \", error)\n"
   ],
   "metadata": {
    "collapsed": false,
    "pycharm": {
     "name": "#%%\n"
    }
   }
  },
  {
   "cell_type": "code",
   "execution_count": 18,
   "outputs": [
    {
     "name": "stdout",
     "output_type": "stream",
     "text": [
      "Employee deleted successfully\n"
     ]
    }
   ],
   "source": [
    "# delete employee 94\n",
    "try:\n",
    "    cursor.execute('''\n",
    "   delete  from Employee where employee_id=94;\n",
    "    ''')\n",
    "    print('Employee deleted successfully')\n",
    "    conn.commit()\n",
    "except mysql.connector.Error as error:\n",
    "    print(\"Error Occurred \", error)\n"
   ],
   "metadata": {
    "collapsed": false,
    "pycharm": {
     "name": "#%%\n"
    }
   }
  },
  {
   "cell_type": "code",
   "execution_count": null,
   "outputs": [],
   "source": [
    "# order the records by last name\n"
   ],
   "metadata": {
    "collapsed": false,
    "pycharm": {
     "name": "#%%\n"
    }
   }
  }
 ],
 "metadata": {
  "kernelspec": {
   "display_name": "Python 3 (ipykernel)",
   "language": "python",
   "name": "python3"
  },
  "language_info": {
   "codemirror_mode": {
    "name": "ipython",
    "version": 3
   },
   "file_extension": ".py",
   "mimetype": "text/x-python",
   "name": "python",
   "nbconvert_exporter": "python",
   "pygments_lexer": "ipython3",
   "version": "3.8.10"
  }
 },
 "nbformat": 4,
 "nbformat_minor": 1
}